{
 "cells": [
  {
   "cell_type": "code",
   "execution_count": 55,
   "id": "307ed767",
   "metadata": {},
   "outputs": [],
   "source": [
    "# Sudoku Puzzle Solver -- full CNN model\n",
    "# (c) AlexPfaff June 2025\n",
    "\n",
    "import tensorflow as tf\n",
    "from tensorflow import keras\n",
    "from keras import Model, Input\n",
    "from keras.layers import Embedding, Conv2D, Activation, LSTM, Bidirectional, Dense, Reshape, Flatten, Lambda\n",
    "from keras.optimizers import Adam\n",
    "from keras.callbacks import EarlyStopping, ReduceLROnPlateau\n",
    "\n",
    "from PsQ_Grid import Grid\n",
    "from PsQ_GridCollection import GridCollection as GC\n",
    "import numpy as np\n",
    "\n",
    "from typing import List, Tuple, Literal, Optional\n",
    "from sklearn.model_selection import train_test_split\n",
    "from tqdm import tqdm \n"
   ]
  },
  {
   "cell_type": "code",
   "execution_count": 56,
   "id": "e2ae6eb9",
   "metadata": {},
   "outputs": [],
   "source": [
    "def make_fullCNNModel():\n",
    "    vocab_size = 9  # digits 1-9\n",
    "    embedding_dim = 16\n",
    "\n",
    "    inputs = Input(shape=(9, 9), dtype='int32')  # (batch, 9, 9)\n",
    "\n",
    "    # Learnable embedding for each digit 0-9 (0 = masked)\n",
    "    x = Embedding(input_dim=vocab_size + 1, output_dim=embedding_dim, mask_zero=False)(inputs)  # → (batch, 9, 9, embed_dim)\n",
    "\n",
    "    # Convolutional feature extraction -- standard\n",
    "    # x = Conv2D(32, (3, 3), padding='same', activation='relu')(x)\n",
    "    # x = Conv2D(64, (3, 3), padding='same', activation='relu')(x)\n",
    "    # x = Conv2D(64, (3, 3), padding='same', activation='relu')(x)\n",
    "\n",
    "\n",
    "    # Convolutional feature extraction -- power3\n",
    "    x = Conv2D(81, (3, 3), padding='same', activation='relu')(x)\n",
    "    x = Conv2D(81, (3, 3), padding='same', activation='relu')(x)\n",
    "    x = Conv2D(81, (3, 3), padding='same', activation='relu')(x)\n",
    "    x = Conv2D(81, (3, 3), padding='same', activation='relu')(x)\n",
    "\n",
    "\n",
    "    # Output: predict 1 of 9 digits at each cell (softmax over depth)\n",
    "    x = Conv2D(vocab_size, (1, 1), padding='same')(x)\n",
    "    outputs = Activation('softmax')(x)  # shape: (batch, 9, 9, 9)\n",
    "\n",
    "    model = Model(inputs, outputs)\n",
    "    model.summary()\n",
    "\n",
    "    optimizer = Adam(\n",
    "        learning_rate=0.0012,       \n",
    "        beta_1=0.9,                \n",
    "        beta_2=0.999,              \n",
    "        epsilon=1e-7              \n",
    "    )\n",
    "\n",
    "    model.compile(optimizer=optimizer,\n",
    "                  loss='sparse_categorical_crossentropy',\n",
    "                  metrics=['accuracy'])\n",
    "    return model"
   ]
  },
  {
   "cell_type": "code",
   "execution_count": 57,
   "id": "87af8a2e",
   "metadata": {},
   "outputs": [],
   "source": [
    "class Grid_NN_mulitple_k_blanks_Solver:\n",
    "    \"\"\" Trains Sudoku solver (= full CNN model);\n",
    "        input data: n x 9 x 9 arrays (= Sudoku grids with variable number of blanks = 0),\n",
    "        raw output = model predictions: n x 9 x 9 x 9 (= n x 9 x 9 softmaxed probability distributions over digits 1-9)  \n",
    "    \"\"\"\n",
    "\n",
    "    def __init__(self, \n",
    "                 gridCollection: np.ndarray, \n",
    "                 max_k_blanks = 60,                     # max number of blanks\n",
    "                 include_parentSet: bool = True         # do we include the naked parent dataset in the training data?\n",
    "                 ) -> None:           \n",
    "        self.gridCollection = gridCollection.copy().reshape(-1, 81)\n",
    "        self.size = self.gridCollection.shape[0]\n",
    "        self.labels = gridCollection.copy().reshape(-1, 81) if include_parentSet else np.empty((0, 81), dtype=self.gridCollection.dtype) \n",
    "        self.maskedGridCollection = gridCollection.copy().reshape(-1, 81) if include_parentSet else np.empty((0, 81), dtype=self.gridCollection.dtype) \n",
    "        self.max_k_blanks = max_k_blanks\n",
    "        self.GRIDSIZE = 81\n",
    "\n",
    "        assert self.maskedGridCollection.shape[0] == self.labels.shape[0]\n",
    "\n",
    "        self.model = make_fullCNNModel()\n",
    "\n",
    "        self._mask_normal()\n",
    "        self._mask_largeGaps()\n",
    "        self._prep_split_Data()\n",
    "\n",
    "    @property\n",
    "    def datasize(self):\n",
    "        return self.maskedGridCollection.shape[0]\n",
    "\n",
    "    def _mask_normal(self):\n",
    "        \"\"\" Iterates several times through the dataset creating grids with 1--{max_k_blanks} blanks = 0s \"\"\"\n",
    "        n_samples = self.size * 4\n",
    "        output = np.empty((n_samples, self.GRIDSIZE), dtype=self.gridCollection.dtype)\n",
    "        labels = np.empty((n_samples, self.GRIDSIZE), dtype=self.gridCollection.dtype)\n",
    "        \n",
    "        for iteration in tqdm(range(n_samples)): \n",
    "            idx = iteration % self.size \n",
    "            k = iteration % self.max_k_blanks + 1 \n",
    "            mask = np.random.choice(range(self.GRIDSIZE), k, replace=False)\n",
    "            grid = self.gridCollection[idx].copy()\n",
    "            grid[mask] = 0 \n",
    "            output[iteration] = grid\n",
    "            labels[iteration] = self.gridCollection[idx].copy()\n",
    "\n",
    "        self.maskedGridCollection = np.concatenate([self.maskedGridCollection, output])\n",
    "        self.labels = np.concatenate([self.labels, labels])\n",
    "\n",
    "\n",
    "    def _mask_largeGaps(self):\n",
    "        \"\"\" Iterates several times through the dataset creating grids with 2/3 * {max_k_blanks} -- {max_k_blanks} blanks = 0s \"\"\"\n",
    "        n_samples = self.size * 4\n",
    "        output = np.empty((n_samples, self.GRIDSIZE), dtype=self.gridCollection.dtype)\n",
    "        labels = np.empty((n_samples, self.GRIDSIZE), dtype=self.gridCollection.dtype)\n",
    "\n",
    "        for iteration in tqdm(range(n_samples)): \n",
    "            idx = iteration % self.size \n",
    "            low = int(self.max_k_blanks *(3/5) + 2)\n",
    "            diff = self.max_k_blanks - low + 1\n",
    "            k = iteration % low + diff   \n",
    "\n",
    "            mask = np.random.choice(range(self.GRIDSIZE), k, replace=False)\n",
    "            grid = self.gridCollection[idx].copy()\n",
    "            grid[mask] = 0 \n",
    "            output[iteration] = grid\n",
    "            labels[iteration] = self.gridCollection[idx].copy()\n",
    "\n",
    "        self.maskedGridCollection = np.concatenate([self.maskedGridCollection, output])\n",
    "        self.labels = np.concatenate([self.labels, labels])\n",
    "\n",
    "    def _prep_split_Data(self):\n",
    "        self.maskedGridCollection = self.maskedGridCollection.reshape(-1, 9, 9)\n",
    "        self.labels = self.labels.reshape(-1, 9, 9)\n",
    "        self.labels -= 1\n",
    "\n",
    "        X_train, X_test, y_train, y_test = train_test_split(\n",
    "            self.maskedGridCollection, self.labels)\n",
    "        X_train, X_val, y_train, y_val = train_test_split(\n",
    "            X_train, y_train)\n",
    "\n",
    "        print(X_train.shape, X_test.shape, X_val.shape)\n",
    "\n",
    "        self.X_train, self.X_val, self.X_test = X_train, X_val, X_test\n",
    "        self.y_train, self.y_val, self.y_test = y_train, y_val, y_test\n",
    "#        self.X_train, self.X_val, self.X_test = X_train.reshape(-1, 9, 9), X_val.reshape(-1, 9, 9), X_test.reshape(-1, 9, 9)\n",
    "#        self.y_train, self.y_val, self.y_test = y_train.reshape(-1, 9, 9), y_val.reshape(-1, 9, 9), y_test.reshape(-1, 9, 9)\n",
    "\n",
    "\n",
    "\n",
    "    def get_data(self) -> Tuple[np.ndarray, np.ndarray, np.ndarray, np.ndarray, np.ndarray, np.ndarray]:\n",
    "        \"\"\"Returns the full dataset splits: (X_train, y_train, X_val, y_val, X_test, y_test)\"\"\"\n",
    "        return self.X_train, self.y_train, self.X_val, self.y_val, self.X_test, self.y_test\n",
    "\n",
    "\n",
    "    def fit(self):\n",
    "        early_stop = EarlyStopping(\n",
    "            monitor='val_loss',              \n",
    "            patience=3,  \n",
    "            restore_best_weights=True,\n",
    "            verbose=2\n",
    "        )\n",
    "\n",
    "        reduce_lr = ReduceLROnPlateau(\n",
    "            monitor='val_loss',\n",
    "            factor=0.51,          \n",
    "            patience=2,        \n",
    "            min_lr=1e-5,\n",
    "            verbose=2\n",
    "        )\n",
    "\n",
    "        X_train, y_train, X_val, y_val, _, _ = self.get_data()\n",
    "\n",
    "        print(X_train.shape, X_train.min(), X_train.max())\n",
    "        print(y_train.shape, y_train.min(), y_train.max())\n",
    "        print(X_val.shape, X_val.min(), X_val.max())\n",
    "        print(y_val.shape, y_val.min(), y_val.max())\n",
    "\n",
    "\n",
    "        self.history = self.model.fit(X_train, y_train,\n",
    "                                    batch_size=256, #  128\n",
    "                                    epochs=15,\n",
    "                                    validation_data=(X_val, y_val),\n",
    "                                    callbacks=[early_stop, reduce_lr],\n",
    "                                    shuffle=True)\n",
    "                                \n",
    "\n",
    "\n",
    "    def evaluate(self): \n",
    "        self.model.evaluate(self.X_test, self.y_test)\n",
    "\n",
    "\n",
    "\n",
    "    def gimme_k_blanks(self, k):\n",
    "        X = self.maskedGridCollection.copy()\n",
    "        zero_counts = (X == 0).sum(axis=1)\n",
    "        return np.where(zero_counts == k)[0]\n",
    "\n",
    "\n",
    "\n",
    "\n",
    "\n",
    "\n",
    "\n",
    "\n",
    "    def play_the_game(self, grid: np.array):\n",
    "\n",
    "        while grid.min() == 0:\n",
    "            y_preds = self.model.predict(grid[None, ...])\n",
    "            pred = y_preds[0]                      \n",
    "            i, j, val = self._find_most_confident_prediction(pred, grid)\n",
    "\n",
    "            grid[i, j] = val\n",
    "\n",
    "            self.play_the_game(grid)\n",
    "\n",
    "        return grid\n",
    "\n",
    "\n",
    "    def _find_most_confident_prediction(self, x_pred, x_input):\n",
    "        \"\"\"\n",
    "        Find the (i, j, d) with the highest confidence in x_pred,\n",
    "        considering only those (i, j) where x_input[i, j] == 0.\n",
    "        \n",
    "        Parameters:\n",
    "            x_pred : np.ndarray of shape (9, 9, 9)\n",
    "                Model output probabilities.\n",
    "            x_input : np.ndarray of shape (9, 9)\n",
    "                Input Sudoku grid with 0s in cells to be filled.\n",
    "\n",
    "        Returns:\n",
    "            i, j, d : int\n",
    "                Position (i, j) and digit d (1–9) of the most confident eligible prediction.\n",
    "        \"\"\"\n",
    "        # Create mask for positions where x_input == 0, then broadcast to shape (9, 9, 9)\n",
    "        mask = (x_input == 0)[:, :, None]                     # shape (9, 9, 1)\n",
    "        mask = np.broadcast_to(mask, x_pred.shape)           # shape (9, 9, 9)\n",
    "\n",
    "        masked_probs = np.where(mask, x_pred, -np.inf)       # ignore positions with filled digits\n",
    "        flat_index = np.argmax(masked_probs)\n",
    "        i, j, d = np.unravel_index(flat_index, (9, 9, 9))\n",
    "        return i, j, d + 1   # convert class index (0–8) to digit (1–9)\n",
    "\n",
    "#    def _find_most_confident_prediction(self, x):\n",
    "#        \"\"\"\n",
    "#        Given a single model output of shape (9, 9, 9), find the (i, j) cell and predicted digit\n",
    "#        with the highest confidence score across the entire grid.\n",
    "#        \"\"\"\n",
    "#        flat_index = np.argmax(x)                           # index in flattened (729,) array\n",
    "#        i, j, d = np.unravel_index(flat_index, (9, 9, 9))   # convert to 3D index\n",
    "#        return i, j, d + 1                                  # shift class index to digit\n",
    "        \n",
    "\n",
    "\n"
   ]
  },
  {
   "cell_type": "code",
   "execution_count": 58,
   "id": "02b0d374",
   "metadata": {},
   "outputs": [
    {
     "name": "stdout",
     "output_type": "stream",
     "text": [
      "initialize @Level 1:  [7, 9, 1, 6, 2, 5, 8, 3, 4]\n",
      "success    @Level 2:  (5, 2, 6, 8, 3, 4, 7, 9, 1)\n",
      "success    @Level 3:  (4, 8, 3, 1, 7, 9, 5, 6, 2)\n",
      "success    @Level 4:  (9, 7, 2, 3, 8, 6, 4, 1, 5)\n",
      "success    @Level 5:  (8, 5, 4, 2, 9, 1, 3, 7, 6)\n",
      "success    @Level 5:  (8, 5, 4, 2, 9, 1, 6, 7, 3)\n",
      "success    @Level 5:  (8, 5, 4, 9, 1, 2, 3, 7, 6)\n",
      "success    @Level 5:  (8, 5, 4, 9, 1, 2, 6, 7, 3)\n",
      "success    @Level 5:  (8, 5, 4, 9, 1, 7, 3, 2, 6)\n",
      "success    @Level 5:  (8, 5, 4, 9, 1, 7, 6, 2, 3)\n",
      "success    @Level 5:  (8, 5, 4, 7, 9, 1, 3, 2, 6)\n",
      "success    @Level 5:  (8, 5, 4, 7, 9, 1, 6, 2, 3)\n",
      "success    @Level 5:  (8, 4, 5, 2, 9, 1, 3, 7, 6)\n",
      "success    @Level 5:  (8, 4, 5, 2, 9, 1, 6, 7, 3)\n",
      "success    @Level 5:  (8, 4, 5, 9, 1, 2, 3, 7, 6)\n",
      "success    @Level 5:  (8, 4, 5, 9, 1, 2, 6, 7, 3)\n",
      "success    @Level 5:  (8, 4, 5, 9, 1, 7, 3, 2, 6)\n",
      "success    @Level 5:  (8, 4, 5, 9, 1, 7, 6, 2, 3)\n",
      "success    @Level 5:  (8, 4, 5, 7, 9, 1, 3, 2, 6)\n",
      "success    @Level 5:  (8, 4, 5, 7, 9, 1, 6, 2, 3)\n",
      "success    @Level 5:  (8, 1, 5, 9, 4, 2, 3, 7, 6)\n",
      "success    @Level 6:  (6, 3, 4, 5, 1, 7, 9, 2, 8)\n",
      "success    @Level 7:  (1, 6, 8, 4, 9, 3, 2, 5, 7)\n",
      "success    @Level 8:  (3, 5, 7, 2, 6, 8, 1, 4, 9)\n",
      "success    @Level 9:  (2, 4, 9, 7, 5, 1, 6, 8, 3)\n"
     ]
    },
    {
     "name": "stderr",
     "output_type": "stream",
     "text": [
      "100%|██████████| 1296/1296 [00:04<00:00, 274.62it/s]\n"
     ]
    }
   ],
   "source": [
    "rnd_idx = np.random.randint(6**8)\n",
    "gc = GC.from_scratch()\n",
    "gc.activate_HorizontalSeries(50)  \n",
    "gc = gc.activeGrid.copy()\n"
   ]
  },
  {
   "cell_type": "code",
   "execution_count": null,
   "id": "26d99d8c",
   "metadata": {},
   "outputs": [
    {
     "data": {
      "text/html": [
       "<pre style=\"white-space:pre;overflow-x:auto;line-height:normal;font-family:Menlo,'DejaVu Sans Mono',consolas,'Courier New',monospace\"><span style=\"font-weight: bold\">Model: \"functional\"</span>\n",
       "</pre>\n"
      ],
      "text/plain": [
       "\u001b[1mModel: \"functional\"\u001b[0m\n"
      ]
     },
     "metadata": {},
     "output_type": "display_data"
    },
    {
     "data": {
      "text/html": [
       "<pre style=\"white-space:pre;overflow-x:auto;line-height:normal;font-family:Menlo,'DejaVu Sans Mono',consolas,'Courier New',monospace\">┏━━━━━━━━━━━━━━━━━━━━━━━━━━━━━━━━━┳━━━━━━━━━━━━━━━━━━━━━━━━┳━━━━━━━━━━━━━━━┓\n",
       "┃<span style=\"font-weight: bold\"> Layer (type)                    </span>┃<span style=\"font-weight: bold\"> Output Shape           </span>┃<span style=\"font-weight: bold\">       Param # </span>┃\n",
       "┡━━━━━━━━━━━━━━━━━━━━━━━━━━━━━━━━━╇━━━━━━━━━━━━━━━━━━━━━━━━╇━━━━━━━━━━━━━━━┩\n",
       "│ input_layer (<span style=\"color: #0087ff; text-decoration-color: #0087ff\">InputLayer</span>)        │ (<span style=\"color: #00d7ff; text-decoration-color: #00d7ff\">None</span>, <span style=\"color: #00af00; text-decoration-color: #00af00\">9</span>, <span style=\"color: #00af00; text-decoration-color: #00af00\">9</span>)           │             <span style=\"color: #00af00; text-decoration-color: #00af00\">0</span> │\n",
       "├─────────────────────────────────┼────────────────────────┼───────────────┤\n",
       "│ embedding (<span style=\"color: #0087ff; text-decoration-color: #0087ff\">Embedding</span>)           │ (<span style=\"color: #00d7ff; text-decoration-color: #00d7ff\">None</span>, <span style=\"color: #00af00; text-decoration-color: #00af00\">9</span>, <span style=\"color: #00af00; text-decoration-color: #00af00\">9</span>, <span style=\"color: #00af00; text-decoration-color: #00af00\">16</span>)       │           <span style=\"color: #00af00; text-decoration-color: #00af00\">160</span> │\n",
       "├─────────────────────────────────┼────────────────────────┼───────────────┤\n",
       "│ conv2d (<span style=\"color: #0087ff; text-decoration-color: #0087ff\">Conv2D</span>)                 │ (<span style=\"color: #00d7ff; text-decoration-color: #00d7ff\">None</span>, <span style=\"color: #00af00; text-decoration-color: #00af00\">9</span>, <span style=\"color: #00af00; text-decoration-color: #00af00\">9</span>, <span style=\"color: #00af00; text-decoration-color: #00af00\">81</span>)       │        <span style=\"color: #00af00; text-decoration-color: #00af00\">11,745</span> │\n",
       "├─────────────────────────────────┼────────────────────────┼───────────────┤\n",
       "│ conv2d_1 (<span style=\"color: #0087ff; text-decoration-color: #0087ff\">Conv2D</span>)               │ (<span style=\"color: #00d7ff; text-decoration-color: #00d7ff\">None</span>, <span style=\"color: #00af00; text-decoration-color: #00af00\">9</span>, <span style=\"color: #00af00; text-decoration-color: #00af00\">9</span>, <span style=\"color: #00af00; text-decoration-color: #00af00\">81</span>)       │        <span style=\"color: #00af00; text-decoration-color: #00af00\">59,130</span> │\n",
       "├─────────────────────────────────┼────────────────────────┼───────────────┤\n",
       "│ conv2d_2 (<span style=\"color: #0087ff; text-decoration-color: #0087ff\">Conv2D</span>)               │ (<span style=\"color: #00d7ff; text-decoration-color: #00d7ff\">None</span>, <span style=\"color: #00af00; text-decoration-color: #00af00\">9</span>, <span style=\"color: #00af00; text-decoration-color: #00af00\">9</span>, <span style=\"color: #00af00; text-decoration-color: #00af00\">81</span>)       │        <span style=\"color: #00af00; text-decoration-color: #00af00\">59,130</span> │\n",
       "├─────────────────────────────────┼────────────────────────┼───────────────┤\n",
       "│ conv2d_3 (<span style=\"color: #0087ff; text-decoration-color: #0087ff\">Conv2D</span>)               │ (<span style=\"color: #00d7ff; text-decoration-color: #00d7ff\">None</span>, <span style=\"color: #00af00; text-decoration-color: #00af00\">9</span>, <span style=\"color: #00af00; text-decoration-color: #00af00\">9</span>, <span style=\"color: #00af00; text-decoration-color: #00af00\">81</span>)       │        <span style=\"color: #00af00; text-decoration-color: #00af00\">59,130</span> │\n",
       "├─────────────────────────────────┼────────────────────────┼───────────────┤\n",
       "│ conv2d_4 (<span style=\"color: #0087ff; text-decoration-color: #0087ff\">Conv2D</span>)               │ (<span style=\"color: #00d7ff; text-decoration-color: #00d7ff\">None</span>, <span style=\"color: #00af00; text-decoration-color: #00af00\">9</span>, <span style=\"color: #00af00; text-decoration-color: #00af00\">9</span>, <span style=\"color: #00af00; text-decoration-color: #00af00\">9</span>)        │           <span style=\"color: #00af00; text-decoration-color: #00af00\">738</span> │\n",
       "├─────────────────────────────────┼────────────────────────┼───────────────┤\n",
       "│ activation (<span style=\"color: #0087ff; text-decoration-color: #0087ff\">Activation</span>)         │ (<span style=\"color: #00d7ff; text-decoration-color: #00d7ff\">None</span>, <span style=\"color: #00af00; text-decoration-color: #00af00\">9</span>, <span style=\"color: #00af00; text-decoration-color: #00af00\">9</span>, <span style=\"color: #00af00; text-decoration-color: #00af00\">9</span>)        │             <span style=\"color: #00af00; text-decoration-color: #00af00\">0</span> │\n",
       "└─────────────────────────────────┴────────────────────────┴───────────────┘\n",
       "</pre>\n"
      ],
      "text/plain": [
       "┏━━━━━━━━━━━━━━━━━━━━━━━━━━━━━━━━━┳━━━━━━━━━━━━━━━━━━━━━━━━┳━━━━━━━━━━━━━━━┓\n",
       "┃\u001b[1m \u001b[0m\u001b[1mLayer (type)                   \u001b[0m\u001b[1m \u001b[0m┃\u001b[1m \u001b[0m\u001b[1mOutput Shape          \u001b[0m\u001b[1m \u001b[0m┃\u001b[1m \u001b[0m\u001b[1m      Param #\u001b[0m\u001b[1m \u001b[0m┃\n",
       "┡━━━━━━━━━━━━━━━━━━━━━━━━━━━━━━━━━╇━━━━━━━━━━━━━━━━━━━━━━━━╇━━━━━━━━━━━━━━━┩\n",
       "│ input_layer (\u001b[38;5;33mInputLayer\u001b[0m)        │ (\u001b[38;5;45mNone\u001b[0m, \u001b[38;5;34m9\u001b[0m, \u001b[38;5;34m9\u001b[0m)           │             \u001b[38;5;34m0\u001b[0m │\n",
       "├─────────────────────────────────┼────────────────────────┼───────────────┤\n",
       "│ embedding (\u001b[38;5;33mEmbedding\u001b[0m)           │ (\u001b[38;5;45mNone\u001b[0m, \u001b[38;5;34m9\u001b[0m, \u001b[38;5;34m9\u001b[0m, \u001b[38;5;34m16\u001b[0m)       │           \u001b[38;5;34m160\u001b[0m │\n",
       "├─────────────────────────────────┼────────────────────────┼───────────────┤\n",
       "│ conv2d (\u001b[38;5;33mConv2D\u001b[0m)                 │ (\u001b[38;5;45mNone\u001b[0m, \u001b[38;5;34m9\u001b[0m, \u001b[38;5;34m9\u001b[0m, \u001b[38;5;34m81\u001b[0m)       │        \u001b[38;5;34m11,745\u001b[0m │\n",
       "├─────────────────────────────────┼────────────────────────┼───────────────┤\n",
       "│ conv2d_1 (\u001b[38;5;33mConv2D\u001b[0m)               │ (\u001b[38;5;45mNone\u001b[0m, \u001b[38;5;34m9\u001b[0m, \u001b[38;5;34m9\u001b[0m, \u001b[38;5;34m81\u001b[0m)       │        \u001b[38;5;34m59,130\u001b[0m │\n",
       "├─────────────────────────────────┼────────────────────────┼───────────────┤\n",
       "│ conv2d_2 (\u001b[38;5;33mConv2D\u001b[0m)               │ (\u001b[38;5;45mNone\u001b[0m, \u001b[38;5;34m9\u001b[0m, \u001b[38;5;34m9\u001b[0m, \u001b[38;5;34m81\u001b[0m)       │        \u001b[38;5;34m59,130\u001b[0m │\n",
       "├─────────────────────────────────┼────────────────────────┼───────────────┤\n",
       "│ conv2d_3 (\u001b[38;5;33mConv2D\u001b[0m)               │ (\u001b[38;5;45mNone\u001b[0m, \u001b[38;5;34m9\u001b[0m, \u001b[38;5;34m9\u001b[0m, \u001b[38;5;34m81\u001b[0m)       │        \u001b[38;5;34m59,130\u001b[0m │\n",
       "├─────────────────────────────────┼────────────────────────┼───────────────┤\n",
       "│ conv2d_4 (\u001b[38;5;33mConv2D\u001b[0m)               │ (\u001b[38;5;45mNone\u001b[0m, \u001b[38;5;34m9\u001b[0m, \u001b[38;5;34m9\u001b[0m, \u001b[38;5;34m9\u001b[0m)        │           \u001b[38;5;34m738\u001b[0m │\n",
       "├─────────────────────────────────┼────────────────────────┼───────────────┤\n",
       "│ activation (\u001b[38;5;33mActivation\u001b[0m)         │ (\u001b[38;5;45mNone\u001b[0m, \u001b[38;5;34m9\u001b[0m, \u001b[38;5;34m9\u001b[0m, \u001b[38;5;34m9\u001b[0m)        │             \u001b[38;5;34m0\u001b[0m │\n",
       "└─────────────────────────────────┴────────────────────────┴───────────────┘\n"
      ]
     },
     "metadata": {},
     "output_type": "display_data"
    },
    {
     "data": {
      "text/html": [
       "<pre style=\"white-space:pre;overflow-x:auto;line-height:normal;font-family:Menlo,'DejaVu Sans Mono',consolas,'Courier New',monospace\"><span style=\"font-weight: bold\"> Total params: </span><span style=\"color: #00af00; text-decoration-color: #00af00\">190,033</span> (742.32 KB)\n",
       "</pre>\n"
      ],
      "text/plain": [
       "\u001b[1m Total params: \u001b[0m\u001b[38;5;34m190,033\u001b[0m (742.32 KB)\n"
      ]
     },
     "metadata": {},
     "output_type": "display_data"
    },
    {
     "data": {
      "text/html": [
       "<pre style=\"white-space:pre;overflow-x:auto;line-height:normal;font-family:Menlo,'DejaVu Sans Mono',consolas,'Courier New',monospace\"><span style=\"font-weight: bold\"> Trainable params: </span><span style=\"color: #00af00; text-decoration-color: #00af00\">190,033</span> (742.32 KB)\n",
       "</pre>\n"
      ],
      "text/plain": [
       "\u001b[1m Trainable params: \u001b[0m\u001b[38;5;34m190,033\u001b[0m (742.32 KB)\n"
      ]
     },
     "metadata": {},
     "output_type": "display_data"
    },
    {
     "data": {
      "text/html": [
       "<pre style=\"white-space:pre;overflow-x:auto;line-height:normal;font-family:Menlo,'DejaVu Sans Mono',consolas,'Courier New',monospace\"><span style=\"font-weight: bold\"> Non-trainable params: </span><span style=\"color: #00af00; text-decoration-color: #00af00\">0</span> (0.00 B)\n",
       "</pre>\n"
      ],
      "text/plain": [
       "\u001b[1m Non-trainable params: \u001b[0m\u001b[38;5;34m0\u001b[0m (0.00 B)\n"
      ]
     },
     "metadata": {},
     "output_type": "display_data"
    },
    {
     "name": "stderr",
     "output_type": "stream",
     "text": [
      "100%|██████████| 1451520/1451520 [00:17<00:00, 80868.38it/s]\n",
      "100%|██████████| 1451520/1451520 [00:18<00:00, 80210.32it/s]\n"
     ]
    },
    {
     "name": "stdout",
     "output_type": "stream",
     "text": [
      "(1837080, 9, 9) (816480, 9, 9) (612360, 9, 9)\n"
     ]
    }
   ],
   "source": [
    "multiple_k_solver = Grid_NN_mulitple_k_blanks_Solver(gc)"
   ]
  },
  {
   "cell_type": "code",
   "execution_count": null,
   "id": "cf1840fc",
   "metadata": {},
   "outputs": [
    {
     "name": "stdout",
     "output_type": "stream",
     "text": [
      "size dataset: 3265920\n",
      "\n",
      "(1837080, 9, 9) 0 9\n",
      "(1837080, 9, 9) 0 8\n",
      "(612360, 9, 9) 0 9\n",
      "(612360, 9, 9) 0 8\n",
      "Epoch 1/15\n",
      "\u001b[1m7177/7177\u001b[0m \u001b[32m━━━━━━━━━━━━━━━━━━━━\u001b[0m\u001b[37m\u001b[0m \u001b[1m645s\u001b[0m 90ms/step - accuracy: 0.8055 - loss: 0.5087 - val_accuracy: 0.8698 - val_loss: 0.3337 - learning_rate: 0.0012\n",
      "Epoch 2/15\n",
      "\u001b[1m7177/7177\u001b[0m \u001b[32m━━━━━━━━━━━━━━━━━━━━\u001b[0m\u001b[37m\u001b[0m \u001b[1m631s\u001b[0m 88ms/step - accuracy: 0.8871 - loss: 0.2874 - val_accuracy: 0.9037 - val_loss: 0.2502 - learning_rate: 0.0012\n",
      "Epoch 3/15\n",
      "\u001b[1m7177/7177\u001b[0m \u001b[32m━━━━━━━━━━━━━━━━━━━━\u001b[0m\u001b[37m\u001b[0m \u001b[1m628s\u001b[0m 87ms/step - accuracy: 0.9140 - loss: 0.2236 - val_accuracy: 0.9324 - val_loss: 0.1775 - learning_rate: 0.0012\n",
      "Epoch 4/15\n",
      "\u001b[1m7177/7177\u001b[0m \u001b[32m━━━━━━━━━━━━━━━━━━━━\u001b[0m\u001b[37m\u001b[0m \u001b[1m630s\u001b[0m 88ms/step - accuracy: 0.9324 - loss: 0.1793 - val_accuracy: 0.9369 - val_loss: 0.1690 - learning_rate: 0.0012\n",
      "Epoch 5/15\n",
      "\u001b[1m7177/7177\u001b[0m \u001b[32m━━━━━━━━━━━━━━━━━━━━\u001b[0m\u001b[37m\u001b[0m \u001b[1m634s\u001b[0m 88ms/step - accuracy: 0.9428 - loss: 0.1525 - val_accuracy: 0.9456 - val_loss: 0.1456 - learning_rate: 0.0012\n",
      "Epoch 6/15\n",
      "\u001b[1m7177/7177\u001b[0m \u001b[32m━━━━━━━━━━━━━━━━━━━━\u001b[0m\u001b[37m\u001b[0m \u001b[1m629s\u001b[0m 88ms/step - accuracy: 0.9494 - loss: 0.1350 - val_accuracy: 0.9521 - val_loss: 0.1277 - learning_rate: 0.0012\n",
      "Epoch 7/15\n",
      "\u001b[1m7177/7177\u001b[0m \u001b[32m━━━━━━━━━━━━━━━━━━━━\u001b[0m\u001b[37m\u001b[0m \u001b[1m629s\u001b[0m 88ms/step - accuracy: 0.9538 - loss: 0.1232 - val_accuracy: 0.9545 - val_loss: 0.1216 - learning_rate: 0.0012\n",
      "Epoch 8/15\n",
      "\u001b[1m7177/7177\u001b[0m \u001b[32m━━━━━━━━━━━━━━━━━━━━\u001b[0m\u001b[37m\u001b[0m \u001b[1m630s\u001b[0m 88ms/step - accuracy: 0.9565 - loss: 0.1159 - val_accuracy: 0.9590 - val_loss: 0.1087 - learning_rate: 0.0012\n",
      "Epoch 9/15\n",
      "\u001b[1m7177/7177\u001b[0m \u001b[32m━━━━━━━━━━━━━━━━━━━━\u001b[0m\u001b[37m\u001b[0m \u001b[1m631s\u001b[0m 88ms/step - accuracy: 0.9589 - loss: 0.1090 - val_accuracy: 0.9550 - val_loss: 0.1215 - learning_rate: 0.0012\n",
      "Epoch 10/15\n",
      "\u001b[1m7177/7177\u001b[0m \u001b[32m━━━━━━━━━━━━━━━━━━━━\u001b[0m\u001b[37m\u001b[0m \u001b[1m624s\u001b[0m 87ms/step - accuracy: 0.9606 - loss: 0.1041 - val_accuracy: 0.9602 - val_loss: 0.1055 - learning_rate: 0.0012\n",
      "Epoch 11/15\n",
      "\u001b[1m7177/7177\u001b[0m \u001b[32m━━━━━━━━━━━━━━━━━━━━\u001b[0m\u001b[37m\u001b[0m \u001b[1m635s\u001b[0m 88ms/step - accuracy: 0.9621 - loss: 0.0997 - val_accuracy: 0.9586 - val_loss: 0.1112 - learning_rate: 0.0012\n",
      "Epoch 12/15\n",
      "\u001b[1m7177/7177\u001b[0m \u001b[32m━━━━━━━━━━━━━━━━━━━━\u001b[0m\u001b[37m\u001b[0m \u001b[1m635s\u001b[0m 88ms/step - accuracy: 0.9630 - loss: 0.0971 - val_accuracy: 0.9614 - val_loss: 0.1025 - learning_rate: 0.0012\n",
      "Epoch 13/15\n",
      "\u001b[1m7177/7177\u001b[0m \u001b[32m━━━━━━━━━━━━━━━━━━━━\u001b[0m\u001b[37m\u001b[0m \u001b[1m636s\u001b[0m 89ms/step - accuracy: 0.9642 - loss: 0.0935 - val_accuracy: 0.9518 - val_loss: 0.1429 - learning_rate: 0.0012\n",
      "Epoch 14/15\n",
      "\u001b[1m7176/7177\u001b[0m \u001b[32m━━━━━━━━━━━━━━━━━━━\u001b[0m\u001b[37m━\u001b[0m \u001b[1m0s\u001b[0m 79ms/step - accuracy: 0.9648 - loss: 0.0920\n",
      "Epoch 14: ReduceLROnPlateau reducing learning rate to 0.0006120000290684402.\n",
      "\u001b[1m7177/7177\u001b[0m \u001b[32m━━━━━━━━━━━━━━━━━━━━\u001b[0m\u001b[37m\u001b[0m \u001b[1m636s\u001b[0m 89ms/step - accuracy: 0.9648 - loss: 0.0920 - val_accuracy: 0.9588 - val_loss: 0.1116 - learning_rate: 0.0012\n",
      "Epoch 15/15\n",
      "\u001b[1m7177/7177\u001b[0m \u001b[32m━━━━━━━━━━━━━━━━━━━━\u001b[0m\u001b[37m\u001b[0m \u001b[1m631s\u001b[0m 88ms/step - accuracy: 0.9690 - loss: 0.0781 - val_accuracy: 0.9664 - val_loss: 0.0873 - learning_rate: 6.1200e-04\n",
      "Restoring model weights from the end of the best epoch: 15.\n"
     ]
    }
   ],
   "source": [
    "print(f\"size dataset: {multiple_k_solver.datasize}\\n\")\n",
    "multiple_k_solver.fit()"
   ]
  },
  {
   "cell_type": "code",
   "execution_count": null,
   "id": "8f440e00",
   "metadata": {},
   "outputs": [],
   "source": []
  },
  {
   "cell_type": "code",
   "execution_count": null,
   "id": "09ab7e22",
   "metadata": {},
   "outputs": [],
   "source": [
    "X_train, y_train, X_val, y_val, X_test, y_test = multiple_k_solver.get_data()"
   ]
  },
  {
   "cell_type": "code",
   "execution_count": null,
   "id": "793ae6b9",
   "metadata": {},
   "outputs": [
    {
     "name": "stdout",
     "output_type": "stream",
     "text": [
      "\u001b[1m57409/57409\u001b[0m \u001b[32m━━━━━━━━━━━━━━━━━━━━\u001b[0m\u001b[37m\u001b[0m \u001b[1m362s\u001b[0m 6ms/step - accuracy: 0.9665 - loss: 0.0869\n",
      "\u001b[1m19137/19137\u001b[0m \u001b[32m━━━━━━━━━━━━━━━━━━━━\u001b[0m\u001b[37m\u001b[0m \u001b[1m112s\u001b[0m 6ms/step - accuracy: 0.9665 - loss: 0.0870\n",
      "\u001b[1m25515/25515\u001b[0m \u001b[32m━━━━━━━━━━━━━━━━━━━━\u001b[0m\u001b[37m\u001b[0m \u001b[1m156s\u001b[0m 6ms/step - accuracy: 0.9664 - loss: 0.0872\n"
     ]
    },
    {
     "data": {
      "text/plain": [
       "[0.0872543677687645, 0.9664185643196106]"
      ]
     },
     "execution_count": 8,
     "metadata": {},
     "output_type": "execute_result"
    }
   ],
   "source": [
    "# evaluating training data / validation data / test data\n",
    "multiple_k_solver.model.evaluate(X_train, y_train)\n",
    "multiple_k_solver.model.evaluate(X_val, y_val)\n",
    "multiple_k_solver.model.evaluate(X_test, y_test)"
   ]
  },
  {
   "cell_type": "code",
   "execution_count": null,
   "id": "6cdb39ef",
   "metadata": {},
   "outputs": [],
   "source": []
  },
  {
   "cell_type": "markdown",
   "id": "1f43faf6",
   "metadata": {},
   "source": [
    "# Save model and data (= blanked grids) to file\n"
   ]
  },
  {
   "cell_type": "code",
   "execution_count": null,
   "id": "2f73dc45",
   "metadata": {},
   "outputs": [],
   "source": [
    "multiple_k_solver.model.save(\"multiple_k_solver_pow3.keras\") \n",
    "\n",
    "dat = multiple_k_solver.maskedGridCollection\n",
    "#lab = multiple_k_solver.labels\n",
    "np.save(\"sudoku_data_pow3.npy\", dat)\n",
    "#data = np.load(\"sudoku_data.npy\")\n",
    "#np.save(\"sudoku_labels.npy\", lab)\n",
    "#labels = np.load(\"sudoku_labels.npy\")\n",
    "\n",
    "\n",
    "# NB: you can call the model / data whatever you want, \n",
    "# but if you want to use them in the GUI, be sure to update the filenames in PsQ_GUI in lines 49/50 accordingly!"
   ]
  },
  {
   "cell_type": "code",
   "execution_count": null,
   "id": "bf5e9f4d",
   "metadata": {},
   "outputs": [
    {
     "name": "stdout",
     "output_type": "stream",
     "text": [
      "\u001b[1m57409/57409\u001b[0m \u001b[32m━━━━━━━━━━━━━━━━━━━━\u001b[0m\u001b[37m\u001b[0m \u001b[1m241s\u001b[0m 4ms/step\n",
      "\u001b[1m19137/19137\u001b[0m \u001b[32m━━━━━━━━━━━━━━━━━━━━\u001b[0m\u001b[37m\u001b[0m \u001b[1m88s\u001b[0m 5ms/step\n",
      "\u001b[1m25515/25515\u001b[0m \u001b[32m━━━━━━━━━━━━━━━━━━━━\u001b[0m\u001b[37m\u001b[0m \u001b[1m116s\u001b[0m 5ms/step\n"
     ]
    }
   ],
   "source": [
    "y_preds_train = multiple_k_solver.model.predict(X_train)\n",
    "y_preds_val = multiple_k_solver.model.predict(X_val)\n",
    "y_preds_test = multiple_k_solver.model.predict(X_test)"
   ]
  },
  {
   "cell_type": "code",
   "execution_count": null,
   "id": "50a39e65",
   "metadata": {},
   "outputs": [],
   "source": [
    "train_p = np.argmax(y_preds_train, axis=-1)\n",
    "val_p = np.argmax(y_preds_val, axis=-1)\n",
    "test_p = np.argmax(y_preds_test, axis=-1)"
   ]
  },
  {
   "cell_type": "code",
   "execution_count": null,
   "id": "c0850ff9",
   "metadata": {},
   "outputs": [
    {
     "name": "stdout",
     "output_type": "stream",
     "text": [
      "[[5 3 1 2 6 0 7 0 4]\n",
      " [2 0 0 9 0 7 0 1 5]\n",
      " [7 9 4 0 1 5 2 0 0]\n",
      " [6 2 3 0 8 0 1 7 0]\n",
      " [9 1 5 7 2 0 8 4 6]\n",
      " [8 0 7 0 9 1 5 2 3]\n",
      " [0 0 2 8 3 6 0 5 0]\n",
      " [3 5 6 1 0 0 0 8 2]\n",
      " [1 8 0 4 5 0 6 0 7]]\n",
      "\n",
      "[[5 3 1 2 6 8 7 9 4]\n",
      " [2 6 8 9 4 7 3 1 5]\n",
      " [7 9 4 3 1 5 2 6 8]\n",
      " [6 2 3 5 8 4 1 7 9]\n",
      " [9 1 5 7 2 3 8 4 6]\n",
      " [8 4 7 6 9 1 5 2 3]\n",
      " [4 7 2 8 3 6 9 5 1]\n",
      " [3 5 6 1 7 9 4 8 2]\n",
      " [1 8 9 4 5 2 6 3 7]]\n",
      "\n",
      "[[5 3 1 2 6 8 7 9 4]\n",
      " [2 6 8 9 4 7 3 1 5]\n",
      " [7 9 4 3 1 5 2 6 8]\n",
      " [6 2 3 5 8 4 1 7 9]\n",
      " [9 1 5 7 2 3 8 4 6]\n",
      " [8 4 7 6 9 1 5 2 3]\n",
      " [4 7 2 8 3 6 9 5 1]\n",
      " [3 5 6 1 7 9 4 8 2]\n",
      " [1 8 9 4 5 2 6 3 7]]\n",
      "\n",
      "\n",
      "Is the predicted (full) grid correct? Sum should be 81 x True\n",
      "[ True]\n",
      "81\n"
     ]
    }
   ],
   "source": [
    "# checking a full prediction\n",
    "\n",
    "g_idx = np.random.randint(X_test.shape[0])\n",
    "\n",
    "print(X_test[g_idx])\n",
    "print( )\n",
    "print(y_test[g_idx]+1)\n",
    "print()\n",
    "print(test_p[g_idx]+1)\n",
    "print()\n",
    "print()\n",
    "print(\"Is the predicted (full) grid correct? Sum should be 81 x True\")\n",
    "print(np.all(y_test[g_idx].reshape(-1, 81) == test_p[g_idx].reshape(-1, 81), axis=1))\n",
    "print((y_test[g_idx] == test_p[g_idx]).sum())"
   ]
  },
  {
   "cell_type": "code",
   "execution_count": null,
   "id": "96ceb46e",
   "metadata": {},
   "outputs": [
    {
     "name": "stdout",
     "output_type": "stream",
     "text": [
      "Number of total grid matches -- prediction == label:\n",
      " 429306 = 52.5801%\n"
     ]
    }
   ],
   "source": [
    "# sanity check -- is the accuracy score really justified, the grids correctly predicted?\n",
    "matches               = np.all(test_p.reshape(-1, 81) == y_test.reshape(-1, 81), axis=1)    \n",
    "fully_identical_grids = np.sum(matches)     \n",
    "matching_indices      = np.where(matches)[0]  \n",
    "\n",
    "print(f\"Number of total grid matches -- prediction == label:\\n {fully_identical_grids} = {round(fully_identical_grids/y_test.shape[0] * 100, 5)}%\")\n"
   ]
  },
  {
   "cell_type": "markdown",
   "id": "0e3e487c",
   "metadata": {},
   "source": [
    "## Accuracy score of around 50% (for 81 out of 81) does not exactly inspire trust .... \n",
    "However, the model won't be used at face value, only one out of 81 predictions will be used:  \n",
    "model.predict() output shape (n, 9, 9, 9) = n x 9 x 9 probability distributions, 81 per grid, but we are not interested in 81 out of 81!\n",
    "* the ones that have a non-zero value in the input will be ignored -- those values we already have, they need not be predicted\n",
    "* amongst the outputs that predict a value for a blank, only the one with the highest overall probability == best argmax is chosen \n",
    "* e.g. if argmax((i, j)) > argmax((x, y)) then the value predicted for position (i, j) will be the unique prediction\n",
    "\n",
    "In other words, the modified predict() method, picks only one value and discards 80. "
   ]
  },
  {
   "cell_type": "markdown",
   "id": "5881cc95",
   "metadata": {},
   "source": [
    "# The Most Crucial Part: best argmax wins! <br>\n",
    "\n",
    "## Recursive Procedure \n",
    "\n",
    "*  probs = model.predict(G_with_k_blanks)         --> 9 x 9 softmaxed probability distributions --> 81 argmaxes\n",
    "*  probs[i, j] only considered iff G[i, j] == 0\n",
    "*  x = argmax(probs) -- best argmax of 81\n",
    "*  (i,j) = coordinates(x)\n",
    "*  v = val(x) \n",
    "* G[i, j] = v   (<--> k -= 1)\n",
    "* probs = model.predict(G_with_k-1_blanks) \n",
    "* Repeat until k == 0"
   ]
  },
  {
   "cell_type": "code",
   "execution_count": null,
   "id": "b335550d",
   "metadata": {},
   "outputs": [],
   "source": [
    "def pick_k_blanks_grid(puzzles: np.array, k = 30): \n",
    "    zero_counts = (puzzles == 0).sum(axis=(1, 2))   \n",
    "    mask =  zero_counts == k \n",
    "    candidates = puzzles[mask].copy()\n",
    "    idx = np.random.randint(candidates.shape[0])\n",
    "    return candidates[idx] \n",
    "\n",
    "\n",
    "def _find_most_confident_prediction(x_pred, x_input):\n",
    "    \"\"\"\n",
    "    Find the (i, j, d) with the highest confidence in x_pred,\n",
    "    considering only those (i, j) where x_input[i, j] == 0.\n",
    "    \n",
    "    Parameters:\n",
    "        x_pred : np.ndarray of shape (9, 9, 9)\n",
    "            Model output probabilities.\n",
    "        x_input : np.ndarray of shape (9, 9)\n",
    "            Input Sudoku grid with 0s in cells to be filled.\n",
    "\n",
    "    Returns:\n",
    "        i, j, d : int\n",
    "            Position (i, j) and digit d (1–9) of the most confident eligible prediction.\n",
    "    \"\"\"\n",
    "    # Create mask for positions where x_input == 0, then broadcast to shape (9, 9, 9)\n",
    "    mask = (x_input == 0)[:, :, None]                     # shape (9, 9, 1)\n",
    "    mask = np.broadcast_to(mask, x_pred.shape)           # shape (9, 9, 9)\n",
    "\n",
    "    masked_probs = np.where(mask, x_pred, -np.inf)       # ignore positions with filled digits\n",
    "    flat_index = np.argmax(masked_probs)\n",
    "    i, j, d = np.unravel_index(flat_index, (9, 9, 9))\n",
    "    return i, j, d + 1   # convert class index (0–8) to digit (1–9)\n",
    "\n",
    "\n",
    "def play_the_game(grid: np.array):\n",
    "\n",
    "    if grid.min() > 0:\n",
    "        return None, None, None, grid\n",
    "\n",
    "    y_preds = multiple_k_solver.model.predict(grid[None, ...])\n",
    "    pred = y_preds[0]                      \n",
    "    i, j, val = _find_most_confident_prediction(pred, grid)\n",
    "\n",
    "    grid[i, j] = val\n",
    "    return  (i, j), val, grid\n",
    "\n",
    "g = Grid()\n",
    "myGrid = pick_k_blanks_grid(X_test)"
   ]
  },
  {
   "cell_type": "code",
   "execution_count": null,
   "id": "f0b9be07",
   "metadata": {},
   "outputs": [
    {
     "name": "stdout",
     "output_type": "stream",
     "text": [
      "\n",
      "-------------------------\n",
      "| 2 7 5 | 6 8 4 | 1 9 3 | \n",
      "| 6 8 4 | 9 3 1 | 7 5 2 | \n",
      "| 1 9 3 | 7 5 2 | 6 8 4 | \n",
      "-------------------------\n",
      "| 8 6 7 | 2 4 3 | 5 1 9 | \n",
      "| 9 5 2 | 1 6 7 | 4 3 8 | \n",
      "| 4 3 1 | 8 9 5 | 2 6 7 | \n",
      "-------------------------\n",
      "| 3 1 6 | 4 7 8 | 9 2 5 | \n",
      "| 7 2 8 | 5 1 9 | 3 4 6 | \n",
      "| 5 4 9 | 3 2 6 | 8 7 1 | \n",
      "-------------------------\n",
      "True\n"
     ]
    }
   ],
   "source": [
    "# if you run this cell for the first time, you will see two grids below (before / after insertion)\n",
    "# to \"play\" the game, run this cell until there is only one grid left (= no more zeros!), or gridCheck() returns False \n",
    "if (myGrid == 0).sum() > 0:\n",
    "    print(myGrid)\n",
    "    c, v, myGrid = play_the_game(myGrid)\n",
    "g.insert(myGrid.flatten())\n",
    "g.showGrid()\n",
    "print(g.gridCheckZero())"
   ]
  },
  {
   "cell_type": "code",
   "execution_count": null,
   "id": "3fdccd47",
   "metadata": {},
   "outputs": [],
   "source": []
  }
 ],
 "metadata": {
  "kernelspec": {
   "display_name": "base",
   "language": "python",
   "name": "python3"
  },
  "language_info": {
   "codemirror_mode": {
    "name": "ipython",
    "version": 3
   },
   "file_extension": ".py",
   "mimetype": "text/x-python",
   "name": "python",
   "nbconvert_exporter": "python",
   "pygments_lexer": "ipython3",
   "version": "3.12.7"
  }
 },
 "nbformat": 4,
 "nbformat_minor": 5
}
